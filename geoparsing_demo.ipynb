{
 "cells": [
  {
   "cell_type": "markdown",
   "id": "10aaebc0-69c9-4c5b-bbef-64e75a242f18",
   "metadata": {},
   "source": [
    "# Digital Mapping for Humanists: A Geoparsing Workshop\n",
    "\n",
    "Asko Nivala\n",
    "\n",
    "University of Turku\n",
    "\n",
    "## The aim of the workshop\n",
    "This hands-on workshop introduces the basic principles of geoparsing – the process of identifying and interpreting place references in textual sources. Through practical exercises and group discussion, participants will learn how spatial information embedded in historical and literary texts can be extracted, visualised and analysed to support new kinds of research questions. No prior programming skills are required. By the end of the session, participants will have experimented with accessible tools to explore how texts can be transformed into maps, and how spatial approaches can enrich cultural and historical analysis.\n",
    "\n",
    "## About this notebook\n",
    "The workshop is based on this Jupyter Notebook. A Jupyter Notebook is a digital notebook that combines code, text and data in a single, interactive document. It allows researchers to write explanations, run small pieces of code (such as for analysing texts), and immediately see the results -- all in the same place. For humanists, it offers a gentle entry into digital research: you can explore language, visualise historical data or map places mentioned in texts, even with minimal programming experience.\n",
    "\n",
    "This notebook will walk you through the geoparsing process and show some examples of Python code. Unfortunately, there is no ready-made software for geoparsing with a graphical user interface. You can execute each Python code cell by pressing the play button. Above the cell is documentation explaining what the code actually does."
   ]
  },
  {
   "cell_type": "markdown",
   "id": "df16a9ff-ccc3-459a-8e84-ba85a0b631a7",
   "metadata": {},
   "source": [
    "## Installing Google Colab dependencies\n",
    "If you want to run this notebook on Google Colab, you need to install the required libraries. This step is not necessary in Binder and might result in error."
   ]
  },
  {
   "cell_type": "code",
   "execution_count": 1,
   "id": "d6e82117-02fd-4ad4-bb9b-96fd29b1c58e",
   "metadata": {},
   "outputs": [
    {
     "name": "stdout",
     "output_type": "stream",
     "text": [
      "The history saving thread hit an unexpected error (OperationalError('attempt to write a readonly database')).History will not be written to the database.\n",
      "Collecting en-core-web-sm==3.7.1 (from -r https://raw.githubusercontent.com/askonivala/geodemo/main/requirements.txt (line 4))\n",
      "  Downloading https://github.com/explosion/spacy-models/releases/download/en_core_web_sm-3.7.1/en_core_web_sm-3.7.1-py3-none-any.whl (12.8 MB)\n",
      "\u001b[2K     \u001b[90m━━━━━━━━━━━━━━━━━━━━━━━━━━━━━━━━━━━━━━━━\u001b[0m \u001b[32m12.8/12.8 MB\u001b[0m \u001b[31m6.9 MB/s\u001b[0m eta \u001b[36m0:00:00\u001b[0m00:01\u001b[0m00:01\u001b[0m\n",
      "\u001b[?25hRequirement already satisfied: spacy==3.8.7 in /Users/aeniva/Documents/Yliopisto/2025/Tallinn_Summer_School/.venv/lib/python3.11/site-packages (from -r https://raw.githubusercontent.com/askonivala/geodemo/main/requirements.txt (line 1)) (3.8.7)\n",
      "Requirement already satisfied: geopy==2.4.1 in /Users/aeniva/Documents/Yliopisto/2025/Tallinn_Summer_School/.venv/lib/python3.11/site-packages (from -r https://raw.githubusercontent.com/askonivala/geodemo/main/requirements.txt (line 2)) (2.4.1)\n",
      "Requirement already satisfied: folium==0.20.0 in /Users/aeniva/Documents/Yliopisto/2025/Tallinn_Summer_School/.venv/lib/python3.11/site-packages (from -r https://raw.githubusercontent.com/askonivala/geodemo/main/requirements.txt (line 3)) (0.20.0)\n",
      "Requirement already satisfied: spacy-legacy<3.1.0,>=3.0.11 in /Users/aeniva/Documents/Yliopisto/2025/Tallinn_Summer_School/.venv/lib/python3.11/site-packages (from spacy==3.8.7->-r https://raw.githubusercontent.com/askonivala/geodemo/main/requirements.txt (line 1)) (3.0.12)\n",
      "Requirement already satisfied: spacy-loggers<2.0.0,>=1.0.0 in /Users/aeniva/Documents/Yliopisto/2025/Tallinn_Summer_School/.venv/lib/python3.11/site-packages (from spacy==3.8.7->-r https://raw.githubusercontent.com/askonivala/geodemo/main/requirements.txt (line 1)) (1.0.5)\n",
      "Requirement already satisfied: murmurhash<1.1.0,>=0.28.0 in /Users/aeniva/Documents/Yliopisto/2025/Tallinn_Summer_School/.venv/lib/python3.11/site-packages (from spacy==3.8.7->-r https://raw.githubusercontent.com/askonivala/geodemo/main/requirements.txt (line 1)) (1.0.13)\n",
      "Requirement already satisfied: cymem<2.1.0,>=2.0.2 in /Users/aeniva/Documents/Yliopisto/2025/Tallinn_Summer_School/.venv/lib/python3.11/site-packages (from spacy==3.8.7->-r https://raw.githubusercontent.com/askonivala/geodemo/main/requirements.txt (line 1)) (2.0.11)\n",
      "Requirement already satisfied: preshed<3.1.0,>=3.0.2 in /Users/aeniva/Documents/Yliopisto/2025/Tallinn_Summer_School/.venv/lib/python3.11/site-packages (from spacy==3.8.7->-r https://raw.githubusercontent.com/askonivala/geodemo/main/requirements.txt (line 1)) (3.0.10)\n",
      "Requirement already satisfied: thinc<8.4.0,>=8.3.4 in /Users/aeniva/Documents/Yliopisto/2025/Tallinn_Summer_School/.venv/lib/python3.11/site-packages (from spacy==3.8.7->-r https://raw.githubusercontent.com/askonivala/geodemo/main/requirements.txt (line 1)) (8.3.6)\n",
      "Requirement already satisfied: wasabi<1.2.0,>=0.9.1 in /Users/aeniva/Documents/Yliopisto/2025/Tallinn_Summer_School/.venv/lib/python3.11/site-packages (from spacy==3.8.7->-r https://raw.githubusercontent.com/askonivala/geodemo/main/requirements.txt (line 1)) (1.1.3)\n",
      "Requirement already satisfied: srsly<3.0.0,>=2.4.3 in /Users/aeniva/Documents/Yliopisto/2025/Tallinn_Summer_School/.venv/lib/python3.11/site-packages (from spacy==3.8.7->-r https://raw.githubusercontent.com/askonivala/geodemo/main/requirements.txt (line 1)) (2.5.1)\n",
      "Requirement already satisfied: catalogue<2.1.0,>=2.0.6 in /Users/aeniva/Documents/Yliopisto/2025/Tallinn_Summer_School/.venv/lib/python3.11/site-packages (from spacy==3.8.7->-r https://raw.githubusercontent.com/askonivala/geodemo/main/requirements.txt (line 1)) (2.0.10)\n",
      "Requirement already satisfied: weasel<0.5.0,>=0.1.0 in /Users/aeniva/Documents/Yliopisto/2025/Tallinn_Summer_School/.venv/lib/python3.11/site-packages (from spacy==3.8.7->-r https://raw.githubusercontent.com/askonivala/geodemo/main/requirements.txt (line 1)) (0.4.1)\n",
      "Requirement already satisfied: typer<1.0.0,>=0.3.0 in /Users/aeniva/Documents/Yliopisto/2025/Tallinn_Summer_School/.venv/lib/python3.11/site-packages (from spacy==3.8.7->-r https://raw.githubusercontent.com/askonivala/geodemo/main/requirements.txt (line 1)) (0.16.0)\n",
      "Requirement already satisfied: tqdm<5.0.0,>=4.38.0 in /Users/aeniva/Documents/Yliopisto/2025/Tallinn_Summer_School/.venv/lib/python3.11/site-packages (from spacy==3.8.7->-r https://raw.githubusercontent.com/askonivala/geodemo/main/requirements.txt (line 1)) (4.67.1)\n",
      "Requirement already satisfied: numpy>=1.19.0 in /Users/aeniva/Documents/Yliopisto/2025/Tallinn_Summer_School/.venv/lib/python3.11/site-packages (from spacy==3.8.7->-r https://raw.githubusercontent.com/askonivala/geodemo/main/requirements.txt (line 1)) (2.3.2)\n",
      "Requirement already satisfied: requests<3.0.0,>=2.13.0 in /Users/aeniva/Documents/Yliopisto/2025/Tallinn_Summer_School/.venv/lib/python3.11/site-packages (from spacy==3.8.7->-r https://raw.githubusercontent.com/askonivala/geodemo/main/requirements.txt (line 1)) (2.32.4)\n",
      "Requirement already satisfied: pydantic!=1.8,!=1.8.1,<3.0.0,>=1.7.4 in /Users/aeniva/Documents/Yliopisto/2025/Tallinn_Summer_School/.venv/lib/python3.11/site-packages (from spacy==3.8.7->-r https://raw.githubusercontent.com/askonivala/geodemo/main/requirements.txt (line 1)) (2.11.7)\n",
      "Requirement already satisfied: jinja2 in /Users/aeniva/Documents/Yliopisto/2025/Tallinn_Summer_School/.venv/lib/python3.11/site-packages (from spacy==3.8.7->-r https://raw.githubusercontent.com/askonivala/geodemo/main/requirements.txt (line 1)) (3.1.6)\n",
      "Requirement already satisfied: setuptools in /Users/aeniva/Documents/Yliopisto/2025/Tallinn_Summer_School/.venv/lib/python3.11/site-packages (from spacy==3.8.7->-r https://raw.githubusercontent.com/askonivala/geodemo/main/requirements.txt (line 1)) (65.5.0)\n",
      "Requirement already satisfied: packaging>=20.0 in /Users/aeniva/Documents/Yliopisto/2025/Tallinn_Summer_School/.venv/lib/python3.11/site-packages (from spacy==3.8.7->-r https://raw.githubusercontent.com/askonivala/geodemo/main/requirements.txt (line 1)) (25.0)\n",
      "Requirement already satisfied: langcodes<4.0.0,>=3.2.0 in /Users/aeniva/Documents/Yliopisto/2025/Tallinn_Summer_School/.venv/lib/python3.11/site-packages (from spacy==3.8.7->-r https://raw.githubusercontent.com/askonivala/geodemo/main/requirements.txt (line 1)) (3.5.0)\n",
      "Requirement already satisfied: geographiclib<3,>=1.52 in /Users/aeniva/Documents/Yliopisto/2025/Tallinn_Summer_School/.venv/lib/python3.11/site-packages (from geopy==2.4.1->-r https://raw.githubusercontent.com/askonivala/geodemo/main/requirements.txt (line 2)) (2.0)\n",
      "Requirement already satisfied: branca>=0.6.0 in /Users/aeniva/Documents/Yliopisto/2025/Tallinn_Summer_School/.venv/lib/python3.11/site-packages (from folium==0.20.0->-r https://raw.githubusercontent.com/askonivala/geodemo/main/requirements.txt (line 3)) (0.8.1)\n",
      "Requirement already satisfied: xyzservices in /Users/aeniva/Documents/Yliopisto/2025/Tallinn_Summer_School/.venv/lib/python3.11/site-packages (from folium==0.20.0->-r https://raw.githubusercontent.com/askonivala/geodemo/main/requirements.txt (line 3)) (2025.4.0)\n",
      "INFO: pip is looking at multiple versions of en-core-web-sm to determine which version is compatible with other requirements. This could take a while.\n",
      "\u001b[31mERROR: Cannot install -r https://raw.githubusercontent.com/askonivala/geodemo/main/requirements.txt (line 4) and spacy==3.8.7 because these package versions have conflicting dependencies.\u001b[0m\u001b[31m\n",
      "\u001b[0m\n",
      "The conflict is caused by:\n",
      "    The user requested spacy==3.8.7\n",
      "    en-core-web-sm 3.7.1 depends on spacy<3.8.0 and >=3.7.2\n",
      "\n",
      "To fix this you could try to:\n",
      "1. loosen the range of package versions you've specified\n",
      "2. remove package versions to allow pip attempt to solve the dependency conflict\n",
      "\n",
      "\u001b[31mERROR: ResolutionImpossible: for help visit https://pip.pypa.io/en/latest/topics/dependency-resolution/#dealing-with-dependency-conflicts\u001b[0m\u001b[31m\n",
      "\u001b[0m\n",
      "\u001b[1m[\u001b[0m\u001b[34;49mnotice\u001b[0m\u001b[1;39;49m]\u001b[0m\u001b[39;49m A new release of pip is available: \u001b[0m\u001b[31;49m23.2.1\u001b[0m\u001b[39;49m -> \u001b[0m\u001b[32;49m25.2\u001b[0m\n",
      "\u001b[1m[\u001b[0m\u001b[34;49mnotice\u001b[0m\u001b[1;39;49m]\u001b[0m\u001b[39;49m To update, run: \u001b[0m\u001b[32;49mpip install --upgrade pip\u001b[0m\n"
     ]
    }
   ],
   "source": [
    "!pip install -r https://raw.githubusercontent.com/askonivala/geodemo/main/requirements.txt"
   ]
  },
  {
   "cell_type": "markdown",
   "id": "26c3d4eb-fb7a-455c-9708-9881be0c7ec1",
   "metadata": {},
   "source": [
    "## Importing libraries and creating NLP objects\n",
    "Then we need to import required Python libraries. A Python library is a collection of prewritten code that provides tools for specific tasks, such as analysing text or creating maps. To use a library in your code, you import it at the beginning of your notebook with a command like `import spacy` or `import folium`."
   ]
  },
  {
   "cell_type": "code",
   "execution_count": 24,
   "id": "38c02042-95ce-4c92-854c-c088ea3d7823",
   "metadata": {
    "scrolled": true
   },
   "outputs": [],
   "source": [
    "import spacy\n",
    "from geopy.geocoders import Nominatim\n",
    "import folium"
   ]
  },
  {
   "cell_type": "markdown",
   "id": "0c25d379-6df8-4972-a92f-42bcae0f7b81",
   "metadata": {},
   "source": [
    "Next, we will load the English language model into SpaCy. Please note that this model needs to be installed in console before the first run: `python -m spacy download en_core_web_sm`.\n",
    "\n",
    "After that line, we will load Nominatim. This line creates a geolocator object using the Nominatim service, allowing you to search for place names, with \"geo_tutorial\" identifying your application."
   ]
  },
  {
   "cell_type": "code",
   "execution_count": 25,
   "id": "be7ac4bb-0648-42d2-b43e-e699fd923692",
   "metadata": {},
   "outputs": [],
   "source": [
    "nlp = spacy.load(\"en_core_web_sm\")\n",
    "geolocator = Nominatim(user_agent=\"geo_tutorial\")"
   ]
  },
  {
   "cell_type": "markdown",
   "id": "93dbcfd8-26f8-46fa-9dcb-6b3fb57b8323",
   "metadata": {},
   "source": [
    "## NER (named-entity recognition)\n",
    "The following code cell defines the text for which we will perform geoparsing analysis. You can place the text in the variable `text`. Please note that quotation marks must be closed for the line to work. In addition, the analysed text cannot contain quotation marks unless they are escaped appropriately."
   ]
  },
  {
   "cell_type": "code",
   "execution_count": 26,
   "id": "2f927ae2-1820-4351-b5c5-afaa1227316c",
   "metadata": {},
   "outputs": [],
   "source": [
    "text = \"In the summer of 1802, Mary visited Geneva, passed through Milan, and rested in Florence.\""
   ]
  },
  {
   "cell_type": "markdown",
   "id": "5d69023f-bcb6-453c-9b62-8810699e46f8",
   "metadata": {},
   "source": [
    "These two lines use a language model to find place names in the text. First, the `nlp(text)` command tells the computer to analyse the text using natural language processing, in other words the English language model that we load on SpaCy. Then, the second line goes through the results and collects all the words or phrases that the model recognises as geographical places (like cities or countries). They are encoded with \"GPE\" (geopolitical entity) tag. Then we use Python's list comprehension to save them into a list called `places`."
   ]
  },
  {
   "cell_type": "code",
   "execution_count": 27,
   "id": "076ee5c8-ed58-4209-82ab-eba020679ebc",
   "metadata": {},
   "outputs": [],
   "source": [
    "doc = nlp(text)\n",
    "places = [ent.text for ent in doc.ents if ent.label_ == \"GPE\"]"
   ]
  },
  {
   "cell_type": "markdown",
   "id": "0acc5773-344d-44a3-8fb5-8096fd29952a",
   "metadata": {},
   "source": [
    "We can also check what kind of results were saved at this stage, although this is not required for the execution of the programme. We can see that document might entail also other entities than places, which we have selected based on \"GPE\" tag."
   ]
  },
  {
   "cell_type": "code",
   "execution_count": 28,
   "id": "dc71ee6f-d393-4699-8170-0f1b66dca8ad",
   "metadata": {},
   "outputs": [
    {
     "name": "stdout",
     "output_type": "stream",
     "text": [
      "the summer of 1802 DATE\n",
      "Mary PERSON\n",
      "Geneva GPE\n",
      "Milan GPE\n",
      "Florence GPE\n",
      "['Geneva', 'Milan', 'Florence']\n"
     ]
    }
   ],
   "source": [
    "for entity in doc.ents:\n",
    "    print(entity.text, entity.label_)\n",
    "print(places)"
   ]
  },
  {
   "cell_type": "markdown",
   "id": "a4b19ff9-f37a-4b32-b7e5-1a5dc4ae0427",
   "metadata": {},
   "source": [
    "## Geolocating\n",
    "Now we can try to find the coordinates for the place names using Nominatim. This block of code tries to find real-world map coordinates for each place name. For every place in the list, it asks an online map service (called a geolocator) to look it up. If the service finds a match, the place’s name along with its latitude and longitude (its exact position on Earth) are saved into a new list called `coords`. Finally, we print the contents of the variable to illustrate the results.\n",
    "\n",
    "This step uses an external server, so it may take a long time or end with an error. That is why this implementation uses cache: in other words, it remembers which places have already been looked up, so if the same name appears again (like “Paris” in two different texts), it will not make a new request for the map service. This makes the code faster and more efficient — especially when analysing many texts."
   ]
  },
  {
   "cell_type": "code",
   "execution_count": 34,
   "id": "cf2c77e8-bc6a-414e-bfd5-a336093a1da7",
   "metadata": {},
   "outputs": [
    {
     "name": "stdout",
     "output_type": "stream",
     "text": [
      "[('Geneva', 46.2017559, 6.1466014), ('Milan', 45.4641943, 9.1896346), ('Florence', 43.7697955, 11.2556404)]\n"
     ]
    }
   ],
   "source": [
    "coords = []\n",
    "if not cache:\n",
    "    cache = {}  # Dictionary to store already-looked-up places\n",
    "\n",
    "for place in places:\n",
    "    if place in cache:\n",
    "        location = cache[place]\n",
    "    else:\n",
    "        location = geolocator.geocode(place)\n",
    "        cache[place] = location\n",
    "\n",
    "    if location:\n",
    "        coords.append((place, location.latitude, location.longitude))\n",
    "print(coords)"
   ]
  },
  {
   "cell_type": "markdown",
   "id": "686f0c9a-632b-4eaa-b878-4e49d2302107",
   "metadata": {},
   "source": [
    "## Mapping\n",
    "This code creates an interactive map and adds a marker for each place with known coordinates. It starts by centering the map roughly over Central Europe. Obviously, if you are entering a text that is located to elsewhere, you need to modify these values or zoom out manually. Then it adds a marker at each latitude and longitude from the coords list. When you click on a marker, it shows the name of the place. The final line displays the map in the notebook."
   ]
  },
  {
   "cell_type": "code",
   "execution_count": 23,
   "id": "0fa6016e-2472-4630-b045-6bb6572a97f4",
   "metadata": {
    "scrolled": true
   },
   "outputs": [
    {
     "data": {
      "text/html": [
       "<div style=\"width:100%;\"><div style=\"position:relative;width:100%;height:0;padding-bottom:60%;\"><span style=\"color:#565656\">Make this Notebook Trusted to load map: File -> Trust Notebook</span><iframe srcdoc=\"&lt;!DOCTYPE html&gt;\n",
       "&lt;html&gt;\n",
       "&lt;head&gt;\n",
       "    \n",
       "    &lt;meta http-equiv=&quot;content-type&quot; content=&quot;text/html; charset=UTF-8&quot; /&gt;\n",
       "    &lt;script src=&quot;https://cdn.jsdelivr.net/npm/leaflet@1.9.3/dist/leaflet.js&quot;&gt;&lt;/script&gt;\n",
       "    &lt;script src=&quot;https://code.jquery.com/jquery-3.7.1.min.js&quot;&gt;&lt;/script&gt;\n",
       "    &lt;script src=&quot;https://cdn.jsdelivr.net/npm/bootstrap@5.2.2/dist/js/bootstrap.bundle.min.js&quot;&gt;&lt;/script&gt;\n",
       "    &lt;script src=&quot;https://cdnjs.cloudflare.com/ajax/libs/Leaflet.awesome-markers/2.0.2/leaflet.awesome-markers.js&quot;&gt;&lt;/script&gt;\n",
       "    &lt;link rel=&quot;stylesheet&quot; href=&quot;https://cdn.jsdelivr.net/npm/leaflet@1.9.3/dist/leaflet.css&quot;/&gt;\n",
       "    &lt;link rel=&quot;stylesheet&quot; href=&quot;https://cdn.jsdelivr.net/npm/bootstrap@5.2.2/dist/css/bootstrap.min.css&quot;/&gt;\n",
       "    &lt;link rel=&quot;stylesheet&quot; href=&quot;https://netdna.bootstrapcdn.com/bootstrap/3.0.0/css/bootstrap-glyphicons.css&quot;/&gt;\n",
       "    &lt;link rel=&quot;stylesheet&quot; href=&quot;https://cdn.jsdelivr.net/npm/@fortawesome/fontawesome-free@6.2.0/css/all.min.css&quot;/&gt;\n",
       "    &lt;link rel=&quot;stylesheet&quot; href=&quot;https://cdnjs.cloudflare.com/ajax/libs/Leaflet.awesome-markers/2.0.2/leaflet.awesome-markers.css&quot;/&gt;\n",
       "    &lt;link rel=&quot;stylesheet&quot; href=&quot;https://cdn.jsdelivr.net/gh/python-visualization/folium/folium/templates/leaflet.awesome.rotate.min.css&quot;/&gt;\n",
       "    \n",
       "            &lt;meta name=&quot;viewport&quot; content=&quot;width=device-width,\n",
       "                initial-scale=1.0, maximum-scale=1.0, user-scalable=no&quot; /&gt;\n",
       "            &lt;style&gt;\n",
       "                #map_9c675250156d0202fa99596beee92cc4 {\n",
       "                    position: relative;\n",
       "                    width: 100.0%;\n",
       "                    height: 100.0%;\n",
       "                    left: 0.0%;\n",
       "                    top: 0.0%;\n",
       "                }\n",
       "                .leaflet-container { font-size: 1rem; }\n",
       "            &lt;/style&gt;\n",
       "\n",
       "            &lt;style&gt;html, body {\n",
       "                width: 100%;\n",
       "                height: 100%;\n",
       "                margin: 0;\n",
       "                padding: 0;\n",
       "            }\n",
       "            &lt;/style&gt;\n",
       "\n",
       "            &lt;style&gt;#map {\n",
       "                position:absolute;\n",
       "                top:0;\n",
       "                bottom:0;\n",
       "                right:0;\n",
       "                left:0;\n",
       "                }\n",
       "            &lt;/style&gt;\n",
       "\n",
       "            &lt;script&gt;\n",
       "                L_NO_TOUCH = false;\n",
       "                L_DISABLE_3D = false;\n",
       "            &lt;/script&gt;\n",
       "\n",
       "        \n",
       "&lt;/head&gt;\n",
       "&lt;body&gt;\n",
       "    \n",
       "    \n",
       "            &lt;div class=&quot;folium-map&quot; id=&quot;map_9c675250156d0202fa99596beee92cc4&quot; &gt;&lt;/div&gt;\n",
       "        \n",
       "&lt;/body&gt;\n",
       "&lt;script&gt;\n",
       "    \n",
       "    \n",
       "            var map_9c675250156d0202fa99596beee92cc4 = L.map(\n",
       "                &quot;map_9c675250156d0202fa99596beee92cc4&quot;,\n",
       "                {\n",
       "                    center: [48.0, 10.0],\n",
       "                    crs: L.CRS.EPSG3857,\n",
       "                    ...{\n",
       "  &quot;zoom&quot;: 4,\n",
       "  &quot;zoomControl&quot;: true,\n",
       "  &quot;preferCanvas&quot;: false,\n",
       "}\n",
       "\n",
       "                }\n",
       "            );\n",
       "\n",
       "            \n",
       "\n",
       "        \n",
       "    \n",
       "            var tile_layer_6792937b24c672dedbcc21da86734c27 = L.tileLayer(\n",
       "                &quot;https://tile.openstreetmap.org/{z}/{x}/{y}.png&quot;,\n",
       "                {\n",
       "  &quot;minZoom&quot;: 0,\n",
       "  &quot;maxZoom&quot;: 19,\n",
       "  &quot;maxNativeZoom&quot;: 19,\n",
       "  &quot;noWrap&quot;: false,\n",
       "  &quot;attribution&quot;: &quot;\\u0026copy; \\u003ca href=\\&quot;https://www.openstreetmap.org/copyright\\&quot;\\u003eOpenStreetMap\\u003c/a\\u003e contributors&quot;,\n",
       "  &quot;subdomains&quot;: &quot;abc&quot;,\n",
       "  &quot;detectRetina&quot;: false,\n",
       "  &quot;tms&quot;: false,\n",
       "  &quot;opacity&quot;: 1,\n",
       "}\n",
       "\n",
       "            );\n",
       "        \n",
       "    \n",
       "            tile_layer_6792937b24c672dedbcc21da86734c27.addTo(map_9c675250156d0202fa99596beee92cc4);\n",
       "        \n",
       "    \n",
       "            var marker_01e2935df75ec9cdcd9721ca3aebf06b = L.marker(\n",
       "                [46.2017559, 6.1466014],\n",
       "                {\n",
       "}\n",
       "            ).addTo(map_9c675250156d0202fa99596beee92cc4);\n",
       "        \n",
       "    \n",
       "        var popup_6a772f9a301b3df305aabd9a43b4af2e = L.popup({\n",
       "  &quot;maxWidth&quot;: &quot;100%&quot;,\n",
       "});\n",
       "\n",
       "        \n",
       "            \n",
       "                var html_13d31733e2c95110c769a3c3e79ea751 = $(`&lt;div id=&quot;html_13d31733e2c95110c769a3c3e79ea751&quot; style=&quot;width: 100.0%; height: 100.0%;&quot;&gt;Geneva&lt;/div&gt;`)[0];\n",
       "                popup_6a772f9a301b3df305aabd9a43b4af2e.setContent(html_13d31733e2c95110c769a3c3e79ea751);\n",
       "            \n",
       "        \n",
       "\n",
       "        marker_01e2935df75ec9cdcd9721ca3aebf06b.bindPopup(popup_6a772f9a301b3df305aabd9a43b4af2e)\n",
       "        ;\n",
       "\n",
       "        \n",
       "    \n",
       "    \n",
       "            var marker_070c971e6630acdedba01694404cf873 = L.marker(\n",
       "                [45.4641943, 9.1896346],\n",
       "                {\n",
       "}\n",
       "            ).addTo(map_9c675250156d0202fa99596beee92cc4);\n",
       "        \n",
       "    \n",
       "        var popup_5fe6e46f70015fd5a5c85ea585c49ccf = L.popup({\n",
       "  &quot;maxWidth&quot;: &quot;100%&quot;,\n",
       "});\n",
       "\n",
       "        \n",
       "            \n",
       "                var html_43d4a16c44c7823a5c7abe65739a9146 = $(`&lt;div id=&quot;html_43d4a16c44c7823a5c7abe65739a9146&quot; style=&quot;width: 100.0%; height: 100.0%;&quot;&gt;Milan&lt;/div&gt;`)[0];\n",
       "                popup_5fe6e46f70015fd5a5c85ea585c49ccf.setContent(html_43d4a16c44c7823a5c7abe65739a9146);\n",
       "            \n",
       "        \n",
       "\n",
       "        marker_070c971e6630acdedba01694404cf873.bindPopup(popup_5fe6e46f70015fd5a5c85ea585c49ccf)\n",
       "        ;\n",
       "\n",
       "        \n",
       "    \n",
       "    \n",
       "            var marker_126e93ff1d930584e5f5e6309509f575 = L.marker(\n",
       "                [43.7697955, 11.2556404],\n",
       "                {\n",
       "}\n",
       "            ).addTo(map_9c675250156d0202fa99596beee92cc4);\n",
       "        \n",
       "    \n",
       "        var popup_b9650437b990fe3a8a93b551912dfabb = L.popup({\n",
       "  &quot;maxWidth&quot;: &quot;100%&quot;,\n",
       "});\n",
       "\n",
       "        \n",
       "            \n",
       "                var html_2cc3f443d352f0c6227741623434b8c8 = $(`&lt;div id=&quot;html_2cc3f443d352f0c6227741623434b8c8&quot; style=&quot;width: 100.0%; height: 100.0%;&quot;&gt;Florence&lt;/div&gt;`)[0];\n",
       "                popup_b9650437b990fe3a8a93b551912dfabb.setContent(html_2cc3f443d352f0c6227741623434b8c8);\n",
       "            \n",
       "        \n",
       "\n",
       "        marker_126e93ff1d930584e5f5e6309509f575.bindPopup(popup_b9650437b990fe3a8a93b551912dfabb)\n",
       "        ;\n",
       "\n",
       "        \n",
       "    \n",
       "&lt;/script&gt;\n",
       "&lt;/html&gt;\" style=\"position:absolute;width:100%;height:100%;left:0;top:0;border:none !important;\" allowfullscreen webkitallowfullscreen mozallowfullscreen></iframe></div></div>"
      ],
      "text/plain": [
       "<folium.folium.Map at 0x10ddce310>"
      ]
     },
     "execution_count": 23,
     "metadata": {},
     "output_type": "execute_result"
    }
   ],
   "source": [
    "map_ = folium.Map(location=[48, 10], zoom_start=4)\n",
    "for name, lat, lon in coords:\n",
    "    folium.Marker(location=[lat, lon], popup=name).add_to(map_)\n",
    "map_"
   ]
  }
 ],
 "metadata": {
  "kernelspec": {
   "display_name": "Python (venv-notebook)",
   "language": "python",
   "name": "venv-notebook"
  },
  "language_info": {
   "codemirror_mode": {
    "name": "ipython",
    "version": 3
   },
   "file_extension": ".py",
   "mimetype": "text/x-python",
   "name": "python",
   "nbconvert_exporter": "python",
   "pygments_lexer": "ipython3",
   "version": "3.11.7"
  }
 },
 "nbformat": 4,
 "nbformat_minor": 5
}
